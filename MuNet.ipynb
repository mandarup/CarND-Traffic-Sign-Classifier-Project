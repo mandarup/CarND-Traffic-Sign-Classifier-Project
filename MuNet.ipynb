{
 "cells": [
  {
   "cell_type": "markdown",
   "metadata": {
    "deletable": true,
    "editable": true
   },
   "source": [
    "# LeNet Lab\n",
    "![LeNet Architecture](lenet.png)\n",
    "Source: Yan LeCun"
   ]
  },
  {
   "cell_type": "markdown",
   "metadata": {
    "deletable": true,
    "editable": true
   },
   "source": [
    "## Load Data\n",
    "\n",
    "Load the MNIST data, which comes pre-loaded with TensorFlow.\n",
    "\n",
    "You do not need to modify this section."
   ]
  },
  {
   "cell_type": "code",
   "execution_count": 1,
   "metadata": {
    "collapsed": true,
    "deletable": true,
    "editable": true
   },
   "outputs": [],
   "source": [
    "import time"
   ]
  },
  {
   "cell_type": "code",
   "execution_count": 2,
   "metadata": {
    "collapsed": false,
    "deletable": true,
    "editable": true
   },
   "outputs": [
    {
     "name": "stdout",
     "output_type": "stream",
     "text": [
      "/home/mandar/projects/mandarup/dl-courses/udacity-CarND/CarND-Traffic-Sign-Classifier-Project\n"
     ]
    }
   ],
   "source": [
    "from tensorflow.examples.tutorials.mnist import input_data\n",
    "\n",
    "# Load pickled data\n",
    "import pickle\n",
    "import os\n",
    "\n",
    "root_dir =  os.path.dirname(os.path.realpath(\"__file__\"))\n",
    "print(root_dir)\n",
    "# TODO: Fill this in based on where you saved the training and testing data\n",
    "\n",
    "training_file = os.path.join(root_dir,'traffic-signs-data/train.p')\n",
    "# validation_file= \n",
    "testing_file = 'traffic-signs-data/test.p'\n",
    "\n",
    "with open(training_file, mode='rb') as f:\n",
    "    train = pickle.load(f)\n",
    "# with open(validation_file, mode='rb') as f:\n",
    "#     valid = pickle.load(f)\n",
    "with open(testing_file, mode='rb') as f:\n",
    "    test = pickle.load(f)\n",
    "    \n"
   ]
  },
  {
   "cell_type": "code",
   "execution_count": 17,
   "metadata": {
    "collapsed": true,
    "deletable": true,
    "editable": true
   },
   "outputs": [],
   "source": [
    "X_train, y_train = train['features'], train['labels']\n",
    "X_test, y_test = test['features'], test['labels']"
   ]
  },
  {
   "cell_type": "code",
   "execution_count": 18,
   "metadata": {
    "collapsed": false,
    "deletable": true,
    "editable": true
   },
   "outputs": [
    {
     "name": "stdout",
     "output_type": "stream",
     "text": [
      "Updated image shape (25485, 32, 32, 3)\n"
     ]
    }
   ],
   "source": [
    "from sklearn import model_selection\n",
    "\n",
    "X_train, X_validation, y_train, y_validation = model_selection.train_test_split(\n",
    "    X_train, y_train, test_size=.35, random_state=0)\n",
    "print(\"Updated image shape {}\".format(X_train.shape))"
   ]
  },
  {
   "cell_type": "markdown",
   "metadata": {
    "deletable": true,
    "editable": true
   },
   "source": [
    "## Visualize Data\n",
    "\n",
    "View a sample from the dataset.\n",
    "\n",
    "You do not need to modify this section."
   ]
  },
  {
   "cell_type": "code",
   "execution_count": 19,
   "metadata": {
    "collapsed": false,
    "deletable": true,
    "editable": true
   },
   "outputs": [
    {
     "name": "stdout",
     "output_type": "stream",
     "text": [
      "35\n"
     ]
    },
    {
     "data": {
      "image/png": "[encoded data removed]",
      "text/plain": [
       "<matplotlib.figure.Figure at 0x7f8c58156f60>"
      ]
     },
     "metadata": {},
     "output_type": "display_data"
    }
   ],
   "source": [
    "import random\n",
    "import numpy as np\n",
    "import matplotlib.pyplot as plt\n",
    "\n",
    "%matplotlib inline\n",
    "\n",
    "index = random.randint(0, len(X_train))\n",
    "image = X_train[index].squeeze()\n",
    "\n",
    "plt.figure(figsize=(1,1))\n",
    "plt.imshow(image)\n",
    "print(y_train[index])"
   ]
  },
  {
   "cell_type": "markdown",
   "metadata": {
    "deletable": true,
    "editable": true
   },
   "source": [
    "## Preprocess Data\n",
    "\n",
    "Shuffle the training data.\n",
    "\n",
    "You do not need to modify this section."
   ]
  },
  {
   "cell_type": "code",
   "execution_count": 20,
   "metadata": {
    "collapsed": false,
    "deletable": true,
    "editable": true
   },
   "outputs": [],
   "source": [
    "from sklearn.utils import shuffle\n",
    "\n",
    "X_train, y_train = shuffle(X_train, y_train)"
   ]
  },
  {
   "cell_type": "markdown",
   "metadata": {
    "deletable": true,
    "editable": true
   },
   "source": [
    "## Setup TensorFlow\n",
    "The `EPOCH` and `BATCH_SIZE` values affect the training speed and model accuracy.\n",
    "\n",
    "You do not need to modify this section."
   ]
  },
  {
   "cell_type": "code",
   "execution_count": 40,
   "metadata": {
    "collapsed": true,
    "deletable": true,
    "editable": true
   },
   "outputs": [],
   "source": [
    "import tensorflow as tf\n",
    "\n",
    "EPOCHS = 10000\n",
    "BATCH_SIZE = 512\n",
    "N_CLASSES = 43\n",
    "COLOR_CHANNELS = 3"
   ]
  },
  {
   "cell_type": "markdown",
   "metadata": {
    "deletable": true,
    "editable": true
   },
   "source": [
    "## TODO: Implement LeNet-5\n",
    "Implement the [LeNet-5](http://yann.lecun.com/exdb/lenet/) neural network architecture.\n",
    "\n",
    "This is the only cell you need to edit.\n",
    "### Input\n",
    "The LeNet architecture accepts a 32x32xC image as input, where C is the number of color channels. Since MNIST images are grayscale, C is 1 in this case.\n",
    "\n",
    "### Architecture\n",
    "**Layer 1: Convolutional.** The output shape should be 28x28x6.\n",
    "\n",
    "**Activation.** Your choice of activation function.\n",
    "\n",
    "**Pooling.** The output shape should be 14x14x6.\n",
    "\n",
    "**Layer 2: Convolutional.** The output shape should be 10x10x16.\n",
    "\n",
    "**Activation.** Your choice of activation function.\n",
    "\n",
    "**Pooling.** The output shape should be 5x5x16.\n",
    "\n",
    "**Flatten.** Flatten the output shape of the final pooling layer such that it's 1D instead of 3D. The easiest way to do is by using `tf.contrib.layers.flatten`, which is already imported for you.\n",
    "\n",
    "**Layer 3: Fully Connected.** This should have 120 outputs.\n",
    "\n",
    "**Activation.** Your choice of activation function.\n",
    "\n",
    "**Layer 4: Fully Connected.** This should have 84 outputs.\n",
    "\n",
    "**Activation.** Your choice of activation function.\n",
    "\n",
    "**Layer 5: Fully Connected (Logits).** This should have 10 outputs.\n",
    "\n",
    "### Output\n",
    "Return the result of the 2nd fully connected layer."
   ]
  },
  {
   "cell_type": "code",
   "execution_count": 8,
   "metadata": {
    "collapsed": true,
    "deletable": true,
    "editable": true
   },
   "outputs": [],
   "source": [
    "def conv2d(x, W, b, strides=1):\n",
    "    x = tf.nn.conv2d(x, \n",
    "                     W, \n",
    "                     strides=[1,strides,strides,1],\n",
    "                     padding='VALID')\n",
    "    x = tf.nn.bias_add(x, b)\n",
    "    return x\n",
    "\n",
    "def maxpool2d(x, k=2):\n",
    "    return tf.nn.max_pool(\n",
    "                x,\n",
    "                ksize=[1,k,k,1],\n",
    "                strides=[1,k,k,1],\n",
    "                padding='VALID')"
   ]
  },
  {
   "cell_type": "code",
   "execution_count": null,
   "metadata": {
    "collapsed": true,
    "deletable": true,
    "editable": true
   },
   "outputs": [],
   "source": [
    "\n"
   ]
  },
  {
   "cell_type": "code",
   "execution_count": 9,
   "metadata": {
    "collapsed": false,
    "deletable": true,
    "editable": true
   },
   "outputs": [
    {
     "data": {
      "text/plain": [
       "1200"
      ]
     },
     "execution_count": 9,
     "metadata": {},
     "output_type": "execute_result"
    }
   ],
   "source": [
    "5*5*16*3\n"
   ]
  },
  {
   "cell_type": "code",
   "execution_count": 32,
   "metadata": {
    "collapsed": false,
    "deletable": true,
    "editable": true
   },
   "outputs": [],
   "source": [
    "from tensorflow.contrib.layers import flatten\n",
    "\n",
    "def LeNet(x, dropout):    \n",
    "    # Arguments used for tf.truncated_normal, \n",
    "    # randomly defines variables for the weights and biases for each layer\n",
    "    mu = 0\n",
    "    sigma = 0.1\n",
    "    \n",
    "    \n",
    "#     weights = {'1c': tf.Variable(tf.truncated_normal((7,7,COLOR_CHANNELS,6), mu, sigma)),\n",
    "#                '2c': tf.Variable(tf.truncated_normal((7,7,6,16), mu, sigma)),\n",
    "#                '3d': tf.Variable(tf.truncated_normal(shape=(7*7*16, 120), mean=mu, stddev=sigma)),\n",
    "#                '4d': tf.Variable(tf.truncated_normal((120, 84), mu, sigma)),\n",
    "#                '5out': tf.Variable(tf.truncated_normal((84, N_CLASSES), mu, sigma)),\n",
    "#     }\n",
    "    \n",
    "    \n",
    "    weights = {'1c': tf.Variable(tf.truncated_normal((5,5,COLOR_CHANNELS,6), mu, sigma)),\n",
    "               '2c': tf.Variable(tf.truncated_normal((5,5,6,16), mu, sigma)),\n",
    "               '3d': tf.Variable(tf.truncated_normal(shape=(5*5*16, 120), mean=mu, stddev=sigma)),\n",
    "               '4d': tf.Variable(tf.truncated_normal((120, 84), mu, sigma)),\n",
    "               '5out': tf.Variable(tf.truncated_normal((84, N_CLASSES), mu, sigma)),\n",
    "\n",
    "    }\n",
    "\n",
    "    biases  = {'1c': tf.Variable(tf.zeros(6)),\n",
    "              '2c': tf.Variable(tf.zeros(16)),\n",
    "               '3d':tf.Variable(tf.zeros(120)),\n",
    "               '4d':tf.Variable(tf.zeros(84)),\n",
    "               '5out':tf.Variable(tf.zeros(N_CLASSES)),\n",
    "               \n",
    "           }\n",
    "    \n",
    "    # TODO: Layer 1: Convolutional. Input = 32x32x1. Output = 28x28x6.\n",
    "    # TODO: Activation.\n",
    "    # TODO: Pooling. Input = 28x28x6. Output = 14x14x6.\n",
    "    conv1 = conv2d(x, weights['1c'], biases['1c'], strides=1)\n",
    "    conv1 = tf.nn.relu(conv1)\n",
    "    conv1 = maxpool2d(conv1, k=2)\n",
    "    \n",
    "    # TODO: Layer 2: Convolutional. Output = 10x10x16.\n",
    "    # TODO: Activation.\n",
    "    # TODO: Pooling. Input = 10x10x16. Output = 5x5x16.\n",
    "    print(weights['2c'])\n",
    "    conv2 = conv2d(conv1, weights['2c'], biases['2c'], strides=1)\n",
    "    conv2 = tf.nn.relu(conv2)\n",
    "    conv2 = maxpool2d(conv2, k=2)\n",
    "    \n",
    "    \n",
    "    # TODO: Flatten. Input = 5x5x16. Output = 400.\n",
    "    # TODO: Layer 3: Fully Connected. Input = 400. Output = 120.\n",
    "    fc0   = flatten(conv2)\n",
    "    print(conv2.get_shape().as_list())\n",
    "    print(fc0.get_shape().as_list())\n",
    "    fc3 = tf.add(tf.matmul(fc0, weights['3d']), biases['3d'])\n",
    "    fc3 = tf.nn.relu(fc3)\n",
    "    fc3 = tf.nn.dropout(fc3, dropout)\n",
    "    \n",
    "    # TODO: Activation.\n",
    "    # TODO: Layer 4: Fully Connected. Input = 120. Output = 84.\n",
    "    # TODO: Activation.\n",
    "    fc4 = tf.add(tf.matmul(fc3, weights['4d']), biases['4d'])\n",
    "    fc4 = tf.nn.relu(fc4)\n",
    "    fc4 = tf.nn.dropout(fc4, dropout)\n",
    "    \n",
    "    \n",
    "    # TODO: Layer 5: Fully Connected. Input = 84. Output = 10.\n",
    "    logits = tf.add(tf.matmul(fc4, weights['5out']), biases['5out'])\n",
    "    \n",
    "    return logits"
   ]
  },
  {
   "cell_type": "markdown",
   "metadata": {
    "deletable": true,
    "editable": true
   },
   "source": [
    "## Features and Labels\n",
    "Train LeNet to classify [MNIST](http://yann.lecun.com/exdb/mnist/) data.\n",
    "\n",
    "`x` is a placeholder for a batch of input images.\n",
    "`y` is a placeholder for a batch of output labels.\n",
    "\n",
    "You do not need to modify this section."
   ]
  },
  {
   "cell_type": "code",
   "execution_count": 33,
   "metadata": {
    "collapsed": false,
    "deletable": true,
    "editable": true
   },
   "outputs": [],
   "source": [
    "x = tf.placeholder(tf.float32, (None, 32, 32, COLOR_CHANNELS))\n",
    "y = tf.placeholder(tf.int32, (None))\n",
    "one_hot_y = tf.one_hot(y, N_CLASSES)\n",
    "\n",
    "keep_prob = tf.placeholder(tf.float32)"
   ]
  },
  {
   "cell_type": "markdown",
   "metadata": {
    "deletable": true,
    "editable": true
   },
   "source": [
    "## Training Pipeline\n",
    "Create a training pipeline that uses the model to classify MNIST data.\n",
    "\n",
    "You do not need to modify this section."
   ]
  },
  {
   "cell_type": "code",
   "execution_count": 44,
   "metadata": {
    "collapsed": false,
    "deletable": true,
    "editable": true
   },
   "outputs": [
    {
     "name": "stdout",
     "output_type": "stream",
     "text": [
      "Tensor(\"Variable_21/read:0\", shape=(5, 5, 6, 16), dtype=float32)\n",
      "[None, 5, 5, 16]\n",
      "[None, 400]\n"
     ]
    }
   ],
   "source": [
    "rate = 0.01\n",
    "dropout = 0.5\n",
    "\n",
    "logits = LeNet(x, keep_prob)\n",
    "cross_entropy = tf.nn.softmax_cross_entropy_with_logits(logits=logits, labels=one_hot_y)\n",
    "loss_operation = tf.reduce_mean(cross_entropy)\n",
    "optimizer = tf.train.AdamOptimizer(learning_rate = rate)\n",
    "training_operation = optimizer.minimize(loss_operation)"
   ]
  },
  {
   "cell_type": "markdown",
   "metadata": {
    "deletable": true,
    "editable": true
   },
   "source": [
    "## Model Evaluation\n",
    "Evaluate how well the loss and accuracy of the model for a given dataset.\n",
    "\n",
    "You do not need to modify this section."
   ]
  },
  {
   "cell_type": "code",
   "execution_count": 45,
   "metadata": {
    "collapsed": true,
    "deletable": true,
    "editable": true
   },
   "outputs": [],
   "source": [
    "correct_prediction = tf.equal(tf.argmax(logits, 1), tf.argmax(one_hot_y, 1))\n",
    "accuracy_operation = tf.reduce_mean(tf.cast(correct_prediction, tf.float32))\n",
    "saver = tf.train.Saver()\n",
    "\n",
    "def evaluate(X_data, y_data):\n",
    "    num_examples = len(X_data)\n",
    "    total_accuracy = 0\n",
    "    sess = tf.get_default_session()\n",
    "    for offset in range(0, num_examples, BATCH_SIZE):\n",
    "        batch_x, batch_y = X_data[offset:offset+BATCH_SIZE], y_data[offset:offset+BATCH_SIZE]\n",
    "        accuracy = sess.run(accuracy_operation, feed_dict={x: batch_x, y: batch_y, keep_prob: 1.})\n",
    "        total_accuracy += (accuracy * len(batch_x))\n",
    "    return total_accuracy / num_examples"
   ]
  },
  {
   "cell_type": "markdown",
   "metadata": {
    "deletable": true,
    "editable": true
   },
   "source": [
    "## Train the Model\n",
    "Run the training data through the training pipeline to train the model.\n",
    "\n",
    "Before each epoch, shuffle the training set.\n",
    "\n",
    "After each epoch, measure the loss and accuracy of the validation set.\n",
    "\n",
    "Save the model after training.\n",
    "\n",
    "You do not need to modify this section."
   ]
  },
  {
   "cell_type": "code",
   "execution_count": null,
   "metadata": {
    "collapsed": false,
    "deletable": true,
    "editable": true
   },
   "outputs": [
    {
     "name": "stdout",
     "output_type": "stream",
     "text": [
      "Training...\n",
      "\n",
      "EPOCH 1 Accuracy - Training 0.034, Valid 0.034, AvgEpochTime 7.63 s, TotalTime 0.13 min\n",
      "EPOCH 2 Accuracy - Training 0.038, Valid 0.044, AvgEpochTime 7.43 s, TotalTime 0.25 min\n",
      "EPOCH 3 Accuracy - Training 0.052, Valid 0.060, AvgEpochTime 7.34 s, TotalTime 0.37 min\n",
      "EPOCH 4 Accuracy - Training 0.070, Valid 0.072, AvgEpochTime 7.29 s, TotalTime 0.49 min\n",
      "EPOCH 5 Accuracy - Training 0.080, Valid 0.090, AvgEpochTime 7.26 s, TotalTime 0.60 min\n",
      "EPOCH 6 Accuracy - Training 0.105, Valid 0.111, AvgEpochTime 7.23 s, TotalTime 0.72 min\n",
      "Model saved\n",
      "EPOCH 7 Accuracy - Training 0.114, Valid 0.116, AvgEpochTime 7.25 s, TotalTime 0.85 min\n",
      "EPOCH 8 Accuracy - Training 0.120, Valid 0.124, AvgEpochTime 7.25 s, TotalTime 0.97 min\n",
      "EPOCH 9 Accuracy - Training 0.128, Valid 0.132, AvgEpochTime 7.25 s, TotalTime 1.09 min\n",
      "EPOCH 10 Accuracy - Training 0.137, Valid 0.129, AvgEpochTime 7.25 s, TotalTime 1.21 min\n",
      "EPOCH 11 Accuracy - Training 0.134, Valid 0.130, AvgEpochTime 7.24 s, TotalTime 1.33 min\n",
      "EPOCH 12 Accuracy - Training 0.137, Valid 0.138, AvgEpochTime 7.23 s, TotalTime 1.45 min\n",
      "EPOCH 13 Accuracy - Training 0.146, Valid 0.146, AvgEpochTime 7.23 s, TotalTime 1.57 min\n",
      "EPOCH 14 Accuracy - Training 0.148, Valid 0.151, AvgEpochTime 7.23 s, TotalTime 1.69 min\n",
      "EPOCH 15 Accuracy - Training 0.159, Valid 0.165, AvgEpochTime 7.24 s, TotalTime 1.81 min\n",
      "EPOCH 16 Accuracy - Training 0.167, Valid 0.169, AvgEpochTime 7.24 s, TotalTime 1.93 min\n",
      "EPOCH 17 Accuracy - Training 0.171, Valid 0.181, AvgEpochTime 7.24 s, TotalTime 2.05 min\n",
      "EPOCH 18 Accuracy - Training 0.178, Valid 0.187, AvgEpochTime 7.24 s, TotalTime 2.17 min\n",
      "EPOCH 19 Accuracy - Training 0.188, Valid 0.189, AvgEpochTime 7.24 s, TotalTime 2.29 min\n",
      "EPOCH 20 Accuracy - Training 0.197, Valid 0.204, AvgEpochTime 7.24 s, TotalTime 2.41 min\n",
      "EPOCH 21 Accuracy - Training 0.201, Valid 0.207, AvgEpochTime 7.25 s, TotalTime 2.54 min\n",
      "EPOCH 22 Accuracy - Training 0.216, Valid 0.221, AvgEpochTime 7.25 s, TotalTime 2.66 min\n",
      "EPOCH 23 Accuracy - Training 0.221, Valid 0.223, AvgEpochTime 7.25 s, TotalTime 2.78 min\n",
      "EPOCH 24 Accuracy - Training 0.224, Valid 0.218, AvgEpochTime 7.24 s, TotalTime 2.90 min\n",
      "EPOCH 25 Accuracy - Training 0.225, Valid 0.230, AvgEpochTime 7.24 s, TotalTime 3.02 min\n",
      "EPOCH 26 Accuracy - Training 0.234, Valid 0.230, AvgEpochTime 7.24 s, TotalTime 3.14 min\n",
      "EPOCH 27 Accuracy - Training 0.239, Valid 0.241, AvgEpochTime 7.24 s, TotalTime 3.26 min\n",
      "EPOCH 28 Accuracy - Training 0.240, Valid 0.241, AvgEpochTime 7.23 s, TotalTime 3.38 min\n",
      "EPOCH 29 Accuracy - Training 0.242, Valid 0.240, AvgEpochTime 7.23 s, TotalTime 3.49 min\n",
      "EPOCH 30 Accuracy - Training 0.242, Valid 0.247, AvgEpochTime 7.23 s, TotalTime 3.62 min\n",
      "EPOCH 31 Accuracy - Training 0.244, Valid 0.245, AvgEpochTime 7.24 s, TotalTime 3.74 min\n",
      "EPOCH 32 Accuracy - Training 0.249, Valid 0.254, AvgEpochTime 7.24 s, TotalTime 3.86 min\n"
     ]
    }
   ],
   "source": [
    "from collections import deque\n",
    "\n",
    "TARGET_ACCURACY = .99\n",
    "start_time = time.time()\n",
    "best_valid_accuracy = 0\n",
    "valid_accuracy_q = deque(maxlen=10)\n",
    "\n",
    "with tf.Session() as sess:\n",
    "    sess.run(tf.global_variables_initializer())\n",
    "    num_examples = len(X_train)\n",
    "    \n",
    "    print(\"Training...\")\n",
    "    print()\n",
    "    for i in range(EPOCHS):\n",
    "        X_train, y_train = shuffle(X_train, y_train)\n",
    "        batch_accuracy = []\n",
    "        for offset in range(0, num_examples, BATCH_SIZE):\n",
    "            end = offset + BATCH_SIZE\n",
    "            batch_x, batch_y = X_train[offset:end], y_train[offset:end]\n",
    "            \n",
    "            sess.run(training_operation, feed_dict={x: batch_x, y: batch_y, keep_prob:dropout})\n",
    "            \n",
    "            batch_accuracy.append(evaluate(batch_x, batch_y))\n",
    "                                  \n",
    "        train_accuracy = np.mean(batch_accuracy)                        \n",
    "        validation_accuracy = evaluate(X_validation, y_validation)\n",
    "        valid_accuracy_q.append(validation_accuracy)\n",
    "        if validation_accuracy > best_valid_accuracy:\n",
    "            best_valid_accuracy = validation_accuracy\n",
    "        print(\"EPOCH {} Accuracy - Training {:.3f}, Valid {:.3f}, AvgEpochTime {:.2f} s, TotalTime {:.2f} min\"\n",
    "              .format(i+1, train_accuracy, validation_accuracy, \n",
    "                      (time.time() - start_time)/(i+1), \n",
    "                      (time.time() - start_time)/60.))\n",
    "        if (i % EPOCHS ==5 or i == EPOCHS -1) & i > 0:\n",
    "            saver.save(sess, './lenet')\n",
    "            print(\"Model saved\")\n",
    "        if validation_accuracy > TARGET_ACCURACY:\n",
    "            saver.save(sess, './lenet')\n",
    "            print(\"Model saved\")\n",
    "            print('Target accuracy reached!')\n",
    "            break\n",
    "        if ((len(valid_accuracy_q) == 10 and np.max(list(valid_accuracy_q)[-5:]) < best_valid_accuracy - .01)\n",
    "            or train_accuracy == 1.):\n",
    "            saver.save(sess, './lenet')\n",
    "            print(\"Model saved\")\n",
    "            print('Overfit!!')\n",
    "            break\n",
    "    "
   ]
  },
  {
   "cell_type": "markdown",
   "metadata": {
    "deletable": true,
    "editable": true
   },
   "source": [
    "## Evaluate the Model\n",
    "Once you are completely satisfied with your model, evaluate the performance of the model on the test set.\n",
    "\n",
    "Be sure to only do this once!\n",
    "\n",
    "If you were to measure the performance of your trained model on the test set, then improve your model, and then measure the performance of your model on the test set again, that would invalidate your test results. You wouldn't get a true measure of how well your model would perform against real data.\n",
    "\n",
    "You do not need to modify this section."
   ]
  },
  {
   "cell_type": "code",
   "execution_count": 42,
   "metadata": {
    "collapsed": false,
    "deletable": true,
    "editable": true
   },
   "outputs": [
    {
     "name": "stdout",
     "output_type": "stream",
     "text": [
      "Test Accuracy = 0.310\n"
     ]
    }
   ],
   "source": [
    "with tf.Session() as sess:\n",
    "    saver.restore(sess, tf.train.latest_checkpoint('.'))\n",
    "\n",
    "    test_accuracy = evaluate(X_test, y_test)\n",
    "    print(\"Test Accuracy = {:.3f}\".format(test_accuracy))"
   ]
  },
  {
   "cell_type": "code",
   "execution_count": null,
   "metadata": {
    "collapsed": true,
    "deletable": true,
    "editable": true
   },
   "outputs": [],
   "source": []
  }
 ],
 "metadata": {
  "anaconda-cloud": {},
  "kernelspec": {
   "display_name": "Python3 (tensorflow-gpu)",
   "language": "python",
   "name": "py3-tensorflow-gpu"
  },
  "language_info": {
   "codemirror_mode": {
    "name": "ipython",
    "version": 3
   },
   "file_extension": ".py",
   "mimetype": "text/x-python",
   "name": "python",
   "nbconvert_exporter": "python",
   "pygments_lexer": "ipython3",
   "version": "3.5.2"
  },
  "widgets": {
   "state": {},
   "version": "1.1.2"
  }
 },
 "nbformat": 4,
 "nbformat_minor": 0
}
