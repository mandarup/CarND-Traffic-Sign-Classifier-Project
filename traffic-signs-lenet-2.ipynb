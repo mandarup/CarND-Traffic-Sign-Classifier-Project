{
 "cells": [
  {
   "cell_type": "markdown",
   "metadata": {
    "deletable": true,
    "editable": true
   },
   "source": [
    "# LeNet Lab\n",
    "![LeNet Architecture](lenet.png)\n",
    "Source: Yan LeCun"
   ]
  },
  {
   "cell_type": "markdown",
   "metadata": {
    "deletable": true,
    "editable": true
   },
   "source": [
    "## Load Data\n",
    "\n",
    "Load the MNIST data, which comes pre-loaded with TensorFlow.\n",
    "\n",
    "You do not need to modify this section."
   ]
  },
  {
   "cell_type": "code",
   "execution_count": 1,
   "metadata": {
    "collapsed": false,
    "deletable": true,
    "editable": true
   },
   "outputs": [],
   "source": [
    "import time\n",
    "from imutils import improcess\n",
    "from imutils import implot\n",
    "\n",
    "\n",
    "import pandas as pd\n",
    "from tensorflow.examples.tutorials.mnist import input_data\n",
    "from tensorflow.contrib.layers import flatten\n",
    "\n",
    "# Load pickled data\n",
    "import pickle\n",
    "import os\n",
    "import numpy as np\n",
    "from IPython import display\n",
    "from sklearn.utils import shuffle\n",
    "from sklearn import model_selection\n"
   ]
  },
  {
   "cell_type": "code",
   "execution_count": 2,
   "metadata": {
    "collapsed": false,
    "deletable": true,
    "editable": true
   },
   "outputs": [
    {
     "name": "stdout",
     "output_type": "stream",
     "text": [
      "/home/mandar/projects/mandarup/dl-courses/udacity-CarND/CarND-Traffic-Sign-Classifier-Project\n"
     ]
    }
   ],
   "source": [
    "root_dir =  os.path.dirname(os.path.realpath(\"__file__\"))\n",
    "print(root_dir)\n",
    "# TODO: Fill this in based on where you saved the training and testing data\n",
    "\n",
    "training_file = os.path.join(root_dir,'traffic-signs-data/train.p')\n",
    "# validation_file= \n",
    "testing_file = 'traffic-signs-data/test.p'\n",
    "\n",
    "sign_names_file = 'signnames.csv'"
   ]
  },
  {
   "cell_type": "code",
   "execution_count": 3,
   "metadata": {
    "collapsed": false,
    "deletable": true,
    "editable": true
   },
   "outputs": [],
   "source": [
    "\n",
    "\n",
    "\n",
    "with open(training_file, mode='rb') as f:\n",
    "    train = pickle.load(f)\n",
    "# with open(validation_file, mode='rb') as f:\n",
    "#     valid = pickle.load(f)\n",
    "with open(testing_file, mode='rb') as f:\n",
    "    test = pickle.load(f)\n",
    "    \n"
   ]
  },
  {
   "cell_type": "code",
   "execution_count": 24,
   "metadata": {
    "collapsed": true,
    "deletable": true,
    "editable": true
   },
   "outputs": [],
   "source": [
    "X_train, y_train = train['features'], train['labels']\n",
    "X_test, y_test = test['features'], test['labels']"
   ]
  },
  {
   "cell_type": "code",
   "execution_count": 25,
   "metadata": {
    "collapsed": false,
    "deletable": true,
    "editable": true
   },
   "outputs": [
    {
     "name": "stdout",
     "output_type": "stream",
     "text": [
      "train shape (23525, 32, 32, 3)\n",
      "dev shape (7842, 32, 32, 3)\n",
      "valid shape (7842, 32, 32, 3)\n",
      "label distribution: \n",
      "\t[ 0.6         0.6         0.6         0.6         0.6         0.6         0.6\n",
      "  0.6         0.6         0.6         0.6         0.6         0.6         0.6\n",
      "  0.6         0.6         0.6         0.6         0.6         0.6         0.6\n",
      "  0.6         0.6         0.6         0.6         0.6         0.6         0.6\n",
      "  0.6         0.6         0.6         0.6         0.6         0.59941945\n",
      "  0.6         0.6         0.6         0.6         0.6         0.6         0.6\n",
      "  0.6         0.6       ]\n",
      "label distribution: \n",
      "\t[ 0.2         0.2         0.2         0.2         0.2         0.2         0.2\n",
      "  0.2         0.2         0.2         0.2         0.2         0.2         0.2\n",
      "  0.2         0.2         0.2         0.2         0.2         0.2         0.2\n",
      "  0.2         0.2         0.2         0.2         0.2         0.2         0.2\n",
      "  0.2         0.2         0.2         0.2         0.2         0.20029028\n",
      "  0.2         0.2         0.2         0.2         0.2         0.2         0.2\n",
      "  0.2         0.2       ]\n",
      "label distribution: \n",
      "\t[ 0.2         0.2         0.2         0.2         0.2         0.2         0.2\n",
      "  0.2         0.2         0.2         0.2         0.2         0.2         0.2\n",
      "  0.2         0.2         0.2         0.2         0.2         0.2         0.2\n",
      "  0.2         0.2         0.2         0.2         0.2         0.2         0.2\n",
      "  0.2         0.2         0.2         0.2         0.2         0.20029028\n",
      "  0.2         0.2         0.2         0.2         0.2         0.2         0.2\n",
      "  0.2         0.2       ]\n"
     ]
    }
   ],
   "source": [
    "\n",
    "\n",
    "X_train, X_validation, y_train, y_validation = model_selection.train_test_split(\n",
    "    X_train, y_train, test_size=.4, random_state=0, stratify=y_train)\n",
    "\n",
    "X_validation, X_dev, y_validation, y_dev = model_selection.train_test_split(\n",
    "    X_validation, y_validation, test_size=.5, random_state=0, stratify=y_validation)\n",
    "print(\"train shape {}\".format(X_train.shape))\n",
    "print(\"dev shape {}\".format(X_dev.shape))\n",
    "print(\"valid shape {}\".format(X_validation.shape))\n",
    "\n",
    "print(\"label distribution: \\n\\t{}\".format(np.bincount(y_train)/np.bincount( train['labels'])))\n",
    "print(\"label distribution: \\n\\t{}\".format(np.bincount(y_validation)/np.bincount( train['labels'])))\n",
    "print(\"label distribution: \\n\\t{}\".format(np.bincount(y_dev)/np.bincount( train['labels'])))\n",
    "# print(\"label distribution: \\n\\t{}\".format(np.bincount(y_test)/np.bincount( train['labels'])))"
   ]
  },
  {
   "cell_type": "markdown",
   "metadata": {
    "deletable": true,
    "editable": true
   },
   "source": [
    "## Visualize Data\n",
    "\n",
    "View a sample from the dataset.\n",
    "\n",
    "You do not need to modify this section."
   ]
  },
  {
   "cell_type": "code",
   "execution_count": 26,
   "metadata": {
    "collapsed": false,
    "deletable": true,
    "editable": true
   },
   "outputs": [
    {
     "name": "stdout",
     "output_type": "stream",
     "text": [
      "38\n"
     ]
    },
    {
     "data": {
      "image/png": "[encoded data removed]",
      "text/plain": [
       "<matplotlib.figure.Figure at 0x7f58e59e7c88>"
      ]
     },
     "metadata": {},
     "output_type": "display_data"
    }
   ],
   "source": [
    "import random\n",
    "import numpy as np\n",
    "import matplotlib.pyplot as plt\n",
    "\n",
    "%matplotlib inline\n",
    "\n",
    "index = random.randint(0, len(X_train))\n",
    "image = X_train[index].squeeze()\n",
    "\n",
    "plt.figure(figsize=(1,1))\n",
    "plt.imshow(image)\n",
    "print(y_train[index])"
   ]
  },
  {
   "cell_type": "markdown",
   "metadata": {
    "deletable": true,
    "editable": true
   },
   "source": [
    "## Preprocess Data\n",
    "\n",
    "Shuffle the training data.\n",
    "\n",
    "You do not need to modify this section."
   ]
  },
  {
   "cell_type": "code",
   "execution_count": 45,
   "metadata": {
    "collapsed": false,
    "deletable": true,
    "editable": true
   },
   "outputs": [],
   "source": [
    "def get_signnames(y):\n",
    "    \"\"\"returns label names.\n",
    "    \n",
    "    \"\"\"\n",
    "    # read signnames\n",
    "    signnames = pd.read_csv(sign_names_file)\n",
    "    classid = pd.DataFrame(y,columns=[\"ClassId\"])\n",
    "    labels_df = pd.merge(classid, signnames, how='left')\n",
    "    print(labels_df.shape, classid.shape)\n",
    "    #labels_df.SignName\n",
    "    labels_df['label'] = (labels_df.ClassId.astype(str)\n",
    "                          + \"-\"\n",
    "                          + labels_df.SignName.astype(str))\n",
    "    return labels_df\n"
   ]
  },
  {
   "cell_type": "code",
   "execution_count": 47,
   "metadata": {
    "collapsed": false,
    "deletable": true,
    "editable": true
   },
   "outputs": [
    {
     "name": "stdout",
     "output_type": "stream",
     "text": [
      "(23525, 2) (23525, 1)\n"
     ]
    },
    {
     "data": {
      "image/png": "[encoded data removed]",
      "text/plain": [
       "<matplotlib.figure.Figure at 0x7f58d4e92f28>"
      ]
     },
     "metadata": {},
     "output_type": "display_data"
    }
   ],
   "source": [
    "for i in range(10):\n",
    "    display.clear_output(wait=True)\n",
    "    implot.plot_random_image_matrix(4,4,X_train,get_signnames(y_train).label)\n",
    "#     implot.plot_random_image_matrix(4,4,X_test,get_signnames(y_test).label)\n",
    "    time.sleep(3)"
   ]
  },
  {
   "cell_type": "code",
   "execution_count": 29,
   "metadata": {
    "collapsed": true,
    "deletable": true,
    "editable": true
   },
   "outputs": [],
   "source": [
    "def apply_image_processing(X):\n",
    "    return np.array([improcess.pre_process_image(X[i]) for i in range(len(X))],\n",
    "                          dtype = np.float32)\n",
    "\n",
    "X_train = apply_image_processing(X_train)\n",
    "X_validation = apply_image_processing(X_validation)\n",
    "X_dev = apply_image_processing(X_dev)\n",
    "X_test = apply_image_processing(X_test)"
   ]
  },
  {
   "cell_type": "code",
   "execution_count": 30,
   "metadata": {
    "collapsed": false,
    "deletable": true,
    "editable": true
   },
   "outputs": [],
   "source": [
    "\n",
    "X_train, y_train = shuffle(X_train, y_train)"
   ]
  },
  {
   "cell_type": "markdown",
   "metadata": {
    "deletable": true,
    "editable": true
   },
   "source": [
    "## Setup TensorFlow\n",
    "The `EPOCH` and `BATCH_SIZE` values affect the training speed and model accuracy.\n",
    "\n",
    "You do not need to modify this section."
   ]
  },
  {
   "cell_type": "code",
   "execution_count": 31,
   "metadata": {
    "collapsed": true,
    "deletable": true,
    "editable": true
   },
   "outputs": [],
   "source": [
    "import tensorflow as tf\n",
    "\n",
    "EPOCHS = 10000\n",
    "BATCH_SIZE = 256\n",
    "N_CLASSES = 43\n",
    "COLOR_CHANNELS = 3"
   ]
  },
  {
   "cell_type": "markdown",
   "metadata": {
    "deletable": true,
    "editable": true
   },
   "source": [
    "## TODO: Implement LeNet-5\n",
    "Implement the [LeNet-5](http://yann.lecun.com/exdb/lenet/) neural network architecture.\n",
    "\n",
    "This is the only cell you need to edit.\n",
    "### Input\n",
    "The LeNet architecture accepts a 32x32xC image as input, where C is the number of color channels. Since MNIST images are grayscale, C is 1 in this case.\n",
    "\n",
    "### Architecture\n",
    "**Layer 1: Convolutional.** The output shape should be 28x28x6.\n",
    "\n",
    "**Activation.** Your choice of activation function.\n",
    "\n",
    "**Pooling.** The output shape should be 14x14x6.\n",
    "\n",
    "**Layer 2: Convolutional.** The output shape should be 10x10x16.\n",
    "\n",
    "**Activation.** Your choice of activation function.\n",
    "\n",
    "**Pooling.** The output shape should be 5x5x16.\n",
    "\n",
    "**Flatten.** Flatten the output shape of the final pooling layer such that it's 1D instead of 3D. The easiest way to do is by using `tf.contrib.layers.flatten`, which is already imported for you.\n",
    "\n",
    "**Layer 3: Fully Connected.** This should have 120 outputs.\n",
    "\n",
    "**Activation.** Your choice of activation function.\n",
    "\n",
    "**Layer 4: Fully Connected.** This should have 84 outputs.\n",
    "\n",
    "**Activation.** Your choice of activation function.\n",
    "\n",
    "**Layer 5: Fully Connected (Logits).** This should have 10 outputs.\n",
    "\n",
    "### Output\n",
    "Return the result of the 2nd fully connected layer."
   ]
  },
  {
   "cell_type": "code",
   "execution_count": 32,
   "metadata": {
    "collapsed": true,
    "deletable": true,
    "editable": true
   },
   "outputs": [],
   "source": [
    "def conv2d(x, W, b, strides=1):\n",
    "    x = tf.nn.conv2d(x, \n",
    "                     W, \n",
    "                     strides=[1,strides,strides,1],\n",
    "                     padding='VALID')\n",
    "    x = tf.nn.bias_add(x, b)\n",
    "    return x\n",
    "\n",
    "def maxpool2d(x, k=2):\n",
    "    return tf.nn.max_pool(\n",
    "                x,\n",
    "                ksize=[1,k,k,1],\n",
    "                strides=[1,k,k,1],\n",
    "                padding='VALID')"
   ]
  },
  {
   "cell_type": "code",
   "execution_count": null,
   "metadata": {
    "collapsed": true,
    "deletable": true,
    "editable": true
   },
   "outputs": [],
   "source": [
    "\n"
   ]
  },
  {
   "cell_type": "code",
   "execution_count": 33,
   "metadata": {
    "collapsed": false,
    "deletable": true,
    "editable": true
   },
   "outputs": [
    {
     "data": {
      "text/plain": [
       "1200"
      ]
     },
     "execution_count": 33,
     "metadata": {},
     "output_type": "execute_result"
    }
   ],
   "source": [
    "5*5*16*3\n"
   ]
  },
  {
   "cell_type": "code",
   "execution_count": null,
   "metadata": {
    "collapsed": true,
    "deletable": true,
    "editable": true
   },
   "outputs": [],
   "source": []
  },
  {
   "cell_type": "markdown",
   "metadata": {
    "deletable": true,
    "editable": true
   },
   "source": [
    "## Features and Labels\n",
    "Train LeNet to classify [MNIST](http://yann.lecun.com/exdb/mnist/) data.\n",
    "\n",
    "`x` is a placeholder for a batch of input images.\n",
    "`y` is a placeholder for a batch of output labels.\n",
    "\n",
    "You do not need to modify this section."
   ]
  },
  {
   "cell_type": "code",
   "execution_count": 48,
   "metadata": {
    "collapsed": false,
    "deletable": true,
    "editable": true
   },
   "outputs": [],
   "source": [
    "x = tf.placeholder(tf.float32, (None, 32, 32, COLOR_CHANNELS))\n",
    "y = tf.placeholder(tf.int32, (None))\n",
    "one_hot_y = tf.one_hot(y, N_CLASSES)\n",
    "\n",
    "keep_prob = tf.placeholder(tf.float32)\n",
    "learning_rate = tf.placeholder(tf.float32)"
   ]
  },
  {
   "cell_type": "markdown",
   "metadata": {
    "deletable": true,
    "editable": true
   },
   "source": [
    "## Training Pipeline\n",
    "Create a training pipeline that uses the model to classify MNIST data.\n",
    "\n",
    "You do not need to modify this section."
   ]
  },
  {
   "cell_type": "code",
   "execution_count": 50,
   "metadata": {
    "collapsed": false
   },
   "outputs": [
    {
     "data": {
      "text/plain": [
       "1600"
      ]
     },
     "execution_count": 50,
     "metadata": {},
     "output_type": "execute_result"
    }
   ],
   "source": [
    "5*5*64"
   ]
  },
  {
   "cell_type": "code",
   "execution_count": 51,
   "metadata": {
    "collapsed": false,
    "deletable": true,
    "editable": true
   },
   "outputs": [
    {
     "name": "stdout",
     "output_type": "stream",
     "text": [
      "Tensor(\"Variable_31/read:0\", shape=(5, 5, 32, 64), dtype=float32)\n",
      "2c [5, 5, 32, 64]\n",
      "5out [512, 43]\n",
      "4d [512, 512]\n",
      "3d [1600, 512]\n",
      "1c [5, 5, 3, 32]\n"
     ]
    }
   ],
   "source": [
    "rate = 0.0001\n",
    "dropout = 0.5\n",
    "\n",
    "mu = 0\n",
    "sigma = 0.1\n",
    "\n",
    "\n",
    "weights = {'1c': tf.Variable(tf.truncated_normal((5,5,COLOR_CHANNELS,32), mu, sigma)),\n",
    "           '2c': tf.Variable(tf.truncated_normal((5,5,32,64), mu, sigma)),\n",
    "           '3d': tf.Variable(tf.truncated_normal(shape=(5*5*64, 512), mean=mu, stddev=sigma)),\n",
    "           '4d': tf.Variable(tf.truncated_normal((512, 512), mu, sigma)),\n",
    "           '5out': tf.Variable(tf.truncated_normal((512, N_CLASSES), mu, sigma)),\n",
    "\n",
    "}\n",
    "\n",
    "biases  = {'1c': tf.Variable(tf.zeros(32)),\n",
    "          '2c': tf.Variable(tf.zeros(64)),\n",
    "           '3d':tf.Variable(tf.zeros(512)),\n",
    "           '4d':tf.Variable(tf.zeros(512)),\n",
    "           '5out':tf.Variable(tf.zeros(N_CLASSES)),\n",
    "\n",
    "       }\n",
    "\n",
    "# TODO: Layer 1: Convolutional. Input = 32x32x1. Output = 28x28x6.\n",
    "# TODO: Activation.\n",
    "# TODO: Pooling. Input = 28x28x6. Output = 14x14x6.\n",
    "conv1 = conv2d(x, weights['1c'], biases['1c'], strides=1)\n",
    "conv1 = tf.nn.relu(conv1)\n",
    "conv1 = maxpool2d(conv1, k=2)\n",
    "\n",
    "# TODO: Layer 2: Convolutional. Output = 10x10x16.\n",
    "# TODO: Activation.\n",
    "# TODO: Pooling. Input = 10x10x16. Output = 5x5x16.\n",
    "print(weights['2c'])\n",
    "conv2 = conv2d(conv1, weights['2c'], biases['2c'], strides=1)\n",
    "conv2 = tf.nn.relu(conv2)\n",
    "conv2 = maxpool2d(conv2, k=2)\n",
    "\n",
    "\n",
    "# TODO: Flatten. Input = 5x5x16. Output = 400.\n",
    "# TODO: Layer 3: Fully Connected. Input = 400. Output = 120.\n",
    "fc0   = flatten(conv2)\n",
    "fc3 = tf.add(tf.matmul(fc0, weights['3d']), biases['3d'])\n",
    "fc3 = tf.nn.relu(fc3)\n",
    "fc3 = tf.nn.dropout(fc3, dropout)\n",
    "\n",
    "# TODO: Activation.\n",
    "# TODO: Layer 4: Fully Connected. Input = 120. Output = 84.\n",
    "# TODO: Activation.\n",
    "fc4 = tf.add(tf.matmul(fc3, weights['4d']), biases['4d'])\n",
    "fc4 = tf.nn.relu(fc4)\n",
    "fc4 = tf.nn.dropout(fc4, dropout)\n",
    "\n",
    "\n",
    "# TODO: Layer 5: Fully Connected. Input = 84. Output = 10.\n",
    "logits = tf.add(tf.matmul(fc4, weights['5out']), biases['5out'])\n",
    "\n",
    "\n",
    "for k,v in weights.items():\n",
    "    print(k, v.get_shape().as_list())\n",
    "\n",
    "# print(conv2.get_shape().as_list())\n",
    "# print(fc0.get_shape().as_list())"
   ]
  },
  {
   "cell_type": "code",
   "execution_count": 52,
   "metadata": {
    "collapsed": false,
    "deletable": true,
    "editable": true
   },
   "outputs": [],
   "source": [
    "\n",
    "regularizers = sum([tf.nn.l2_loss(w) for w in weights.values()])\n",
    "\n",
    "# logits = LeNet(x, keep_prob)\n",
    "cross_entropy = tf.nn.softmax_cross_entropy_with_logits(logits=logits, labels=one_hot_y)\n",
    "loss_operation = tf.reduce_mean(cross_entropy) + 1e-6 * regularizers\n",
    "optimizer = tf.train.AdamOptimizer(learning_rate = learning_rate)\n",
    "training_operation = optimizer.minimize(loss_operation) "
   ]
  },
  {
   "cell_type": "markdown",
   "metadata": {
    "deletable": true,
    "editable": true
   },
   "source": [
    "## Model Evaluation\n",
    "Evaluate how well the loss and accuracy of the model for a given dataset.\n",
    "\n",
    "You do not need to modify this section."
   ]
  },
  {
   "cell_type": "code",
   "execution_count": 53,
   "metadata": {
    "collapsed": true,
    "deletable": true,
    "editable": true
   },
   "outputs": [],
   "source": [
    "correct_prediction = tf.equal(tf.argmax(logits, 1), tf.argmax(one_hot_y, 1))\n",
    "accuracy_operation = tf.reduce_mean(tf.cast(correct_prediction, tf.float32))\n",
    "saver = tf.train.Saver()\n",
    "\n",
    "def evaluate(X_data, y_data):\n",
    "    num_examples = len(X_data)\n",
    "    total_accuracy = 0\n",
    "    sess = tf.get_default_session()\n",
    "    for offset in range(0, num_examples, BATCH_SIZE):\n",
    "        batch_x, batch_y = X_data[offset:offset+BATCH_SIZE], y_data[offset:offset+BATCH_SIZE]\n",
    "        accuracy = sess.run(accuracy_operation, feed_dict={x: batch_x, y: batch_y, keep_prob: 1.})\n",
    "        total_accuracy += (accuracy * len(batch_x))\n",
    "    return total_accuracy / num_examples"
   ]
  },
  {
   "cell_type": "markdown",
   "metadata": {
    "deletable": true,
    "editable": true
   },
   "source": [
    "## Train the Model\n",
    "Run the training data through the training pipeline to train the model.\n",
    "\n",
    "Before each epoch, shuffle the training set.\n",
    "\n",
    "After each epoch, measure the loss and accuracy of the validation set.\n",
    "\n",
    "Save the model after training.\n",
    "\n",
    "You do not need to modify this section."
   ]
  },
  {
   "cell_type": "code",
   "execution_count": 54,
   "metadata": {
    "collapsed": false,
    "deletable": true,
    "editable": true,
    "scrolled": false
   },
   "outputs": [
    {
     "name": "stdout",
     "output_type": "stream",
     "text": [
      "Training...\n",
      "\n",
      "EPOCH 1 Accuracy - Training 0.329, Valid 0.550, AvgEpochTime 21.18 s, TotalTime 0.35 min, l_rate 0.0010\n",
      "EPOCH 2 Accuracy - Training 0.676, Valid 0.763, AvgEpochTime 20.66 s, TotalTime 0.69 min, l_rate 0.0010\n",
      "EPOCH 3 Accuracy - Training 0.826, Valid 0.862, AvgEpochTime 20.67 s, TotalTime 1.03 min, l_rate 0.0010\n",
      "EPOCH 4 Accuracy - Training 0.892, Valid 0.897, AvgEpochTime 20.61 s, TotalTime 1.37 min, l_rate 0.0010\n",
      "EPOCH 5 Accuracy - Training 0.926, Valid 0.924, AvgEpochTime 20.54 s, TotalTime 1.71 min, l_rate 0.0010\n",
      "EPOCH 6 Accuracy - Training 0.946, Valid 0.939, AvgEpochTime 20.40 s, TotalTime 2.04 min, l_rate 0.0010\n",
      "Model saved\n",
      "EPOCH 7 Accuracy - Training 0.957, Valid 0.950, AvgEpochTime 20.48 s, TotalTime 2.39 min, l_rate 0.0010\n",
      "EPOCH 8 Accuracy - Training 0.966, Valid 0.950, AvgEpochTime 20.59 s, TotalTime 2.75 min, l_rate 0.0010\n",
      "EPOCH 9 Accuracy - Training 0.971, Valid 0.960, AvgEpochTime 20.77 s, TotalTime 3.12 min, l_rate 0.0010\n",
      "EPOCH 10 Accuracy - Training 0.979, Valid 0.963, AvgEpochTime 20.91 s, TotalTime 3.49 min, l_rate 0.0010\n",
      "EPOCH 11 Accuracy - Training 0.979, Valid 0.966, AvgEpochTime 21.02 s, TotalTime 3.85 min, l_rate 0.0010\n",
      "EPOCH 12 Accuracy - Training 0.982, Valid 0.969, AvgEpochTime 21.12 s, TotalTime 4.22 min, l_rate 0.0010\n",
      "EPOCH 13 Accuracy - Training 0.984, Valid 0.967, AvgEpochTime 21.19 s, TotalTime 4.59 min, l_rate 0.0010\n",
      "EPOCH 14 Accuracy - Training 0.986, Valid 0.970, AvgEpochTime 21.27 s, TotalTime 4.96 min, l_rate 0.0010\n",
      "EPOCH 15 Accuracy - Training 0.988, Valid 0.976, AvgEpochTime 21.33 s, TotalTime 5.33 min, l_rate 0.0010\n",
      "EPOCH 16 Accuracy - Training 0.989, Valid 0.971, AvgEpochTime 21.38 s, TotalTime 5.70 min, l_rate 0.0010\n",
      "Model saved\n",
      "EPOCH 17 Accuracy - Training 0.991, Valid 0.974, AvgEpochTime 21.54 s, TotalTime 6.10 min, l_rate 0.0010\n",
      "EPOCH 18 Accuracy - Training 0.991, Valid 0.979, AvgEpochTime 21.57 s, TotalTime 6.47 min, l_rate 0.0010\n",
      "EPOCH 19 Accuracy - Training 0.992, Valid 0.976, AvgEpochTime 21.61 s, TotalTime 6.84 min, l_rate 0.0010\n",
      "EPOCH 20 Accuracy - Training 0.992, Valid 0.977, AvgEpochTime 21.64 s, TotalTime 7.21 min, l_rate 0.0010\n",
      "EPOCH 21 Accuracy - Training 0.992, Valid 0.977, AvgEpochTime 21.67 s, TotalTime 7.58 min, l_rate 0.0010\n",
      "EPOCH 22 Accuracy - Training 0.992, Valid 0.978, AvgEpochTime 21.69 s, TotalTime 7.95 min, l_rate 0.0010\n",
      "EPOCH 23 Accuracy - Training 0.994, Valid 0.979, AvgEpochTime 21.71 s, TotalTime 8.32 min, l_rate 0.0010\n",
      "EPOCH 24 Accuracy - Training 0.994, Valid 0.982, AvgEpochTime 21.73 s, TotalTime 8.69 min, l_rate 0.0010\n",
      "EPOCH 25 Accuracy - Training 0.994, Valid 0.981, AvgEpochTime 21.75 s, TotalTime 9.06 min, l_rate 0.0010\n",
      "EPOCH 26 Accuracy - Training 0.995, Valid 0.980, AvgEpochTime 21.77 s, TotalTime 9.43 min, l_rate 0.0010\n",
      "Model saved\n",
      "updating learning rate 0.0009000000000000001\n",
      "EPOCH 27 Accuracy - Training 0.994, Valid 0.983, AvgEpochTime 21.85 s, TotalTime 9.83 min, l_rate 0.0009\n",
      "EPOCH 28 Accuracy - Training 0.995, Valid 0.982, AvgEpochTime 21.87 s, TotalTime 10.21 min, l_rate 0.0009\n",
      "updating learning rate 0.0008100000000000001\n",
      "EPOCH 29 Accuracy - Training 0.995, Valid 0.984, AvgEpochTime 21.88 s, TotalTime 10.58 min, l_rate 0.0008\n",
      "EPOCH 30 Accuracy - Training 0.996, Valid 0.980, AvgEpochTime 21.89 s, TotalTime 10.95 min, l_rate 0.0008\n",
      "EPOCH 31 Accuracy - Training 0.996, Valid 0.982, AvgEpochTime 21.90 s, TotalTime 11.31 min, l_rate 0.0008\n",
      "EPOCH 32 Accuracy - Training 0.996, Valid 0.979, AvgEpochTime 21.91 s, TotalTime 11.68 min, l_rate 0.0008\n",
      "EPOCH 33 Accuracy - Training 0.996, Valid 0.978, AvgEpochTime 21.91 s, TotalTime 12.05 min, l_rate 0.0008\n",
      "updating learning rate 0.000729\n",
      "EPOCH 34 Accuracy - Training 0.996, Valid 0.983, AvgEpochTime 21.92 s, TotalTime 12.42 min, l_rate 0.0007\n",
      "EPOCH 35 Accuracy - Training 0.997, Valid 0.984, AvgEpochTime 21.93 s, TotalTime 12.79 min, l_rate 0.0007\n",
      "EPOCH 36 Accuracy - Training 0.998, Valid 0.986, AvgEpochTime 21.94 s, TotalTime 13.16 min, l_rate 0.0007\n",
      "Model saved\n",
      "EPOCH 37 Accuracy - Training 0.998, Valid 0.983, AvgEpochTime 21.99 s, TotalTime 13.56 min, l_rate 0.0007\n",
      "updating learning rate 0.0006561000000000001\n",
      "EPOCH 38 Accuracy - Training 0.997, Valid 0.981, AvgEpochTime 21.99 s, TotalTime 13.93 min, l_rate 0.0007\n",
      "EPOCH 39 Accuracy - Training 0.998, Valid 0.985, AvgEpochTime 22.00 s, TotalTime 14.30 min, l_rate 0.0007\n",
      "EPOCH 40 Accuracy - Training 0.997, Valid 0.985, AvgEpochTime 22.00 s, TotalTime 14.67 min, l_rate 0.0007\n",
      "EPOCH 41 Accuracy - Training 0.998, Valid 0.983, AvgEpochTime 22.01 s, TotalTime 15.04 min, l_rate 0.0007\n",
      "EPOCH 42 Accuracy - Training 0.998, Valid 0.984, AvgEpochTime 22.01 s, TotalTime 15.41 min, l_rate 0.0007\n",
      "EPOCH 43 Accuracy - Training 0.998, Valid 0.985, AvgEpochTime 22.01 s, TotalTime 15.78 min, l_rate 0.0007\n",
      "EPOCH 44 Accuracy - Training 0.998, Valid 0.986, AvgEpochTime 22.02 s, TotalTime 16.15 min, l_rate 0.0007\n",
      "updating learning rate 0.00059049\n",
      "EPOCH 45 Accuracy - Training 0.998, Valid 0.986, AvgEpochTime 22.02 s, TotalTime 16.52 min, l_rate 0.0006\n",
      "updating learning rate 0.000531441\n",
      "EPOCH 46 Accuracy - Training 0.998, Valid 0.985, AvgEpochTime 22.02 s, TotalTime 16.89 min, l_rate 0.0005\n",
      "Model saved\n",
      "EPOCH 47 Accuracy - Training 0.998, Valid 0.984, AvgEpochTime 22.06 s, TotalTime 17.28 min, l_rate 0.0005\n",
      "EPOCH 48 Accuracy - Training 0.999, Valid 0.988, AvgEpochTime 22.06 s, TotalTime 17.65 min, l_rate 0.0005\n",
      "EPOCH 49 Accuracy - Training 0.999, Valid 0.986, AvgEpochTime 22.06 s, TotalTime 18.02 min, l_rate 0.0005\n",
      "updating learning rate 0.0004782969\n",
      "EPOCH 50 Accuracy - Training 0.999, Valid 0.985, AvgEpochTime 22.07 s, TotalTime 18.39 min, l_rate 0.0005\n",
      "updating learning rate 0.00043046721\n",
      "EPOCH 51 Accuracy - Training 0.999, Valid 0.986, AvgEpochTime 22.07 s, TotalTime 18.76 min, l_rate 0.0004\n",
      "EPOCH 52 Accuracy - Training 0.999, Valid 0.989, AvgEpochTime 22.07 s, TotalTime 19.13 min, l_rate 0.0004\n",
      "EPOCH 53 Accuracy - Training 0.999, Valid 0.988, AvgEpochTime 22.07 s, TotalTime 19.50 min, l_rate 0.0004\n",
      "updating learning rate 0.000387420489\n",
      "EPOCH 54 Accuracy - Training 0.999, Valid 0.988, AvgEpochTime 22.07 s, TotalTime 19.86 min, l_rate 0.0004\n",
      "updating learning rate 0.0003486784401\n",
      "EPOCH 55 Accuracy - Training 0.999, Valid 0.989, AvgEpochTime 22.07 s, TotalTime 20.23 min, l_rate 0.0003\n",
      "updating learning rate 0.00031381059609000004\n",
      "EPOCH 56 Accuracy - Training 0.999, Valid 0.989, AvgEpochTime 22.07 s, TotalTime 20.60 min, l_rate 0.0003\n",
      "Model saved\n",
      "EPOCH 57 Accuracy - Training 0.999, Valid 0.987, AvgEpochTime 22.12 s, TotalTime 21.01 min, l_rate 0.0003\n",
      "EPOCH 58 Accuracy - Training 1.000, Valid 0.987, AvgEpochTime 22.12 s, TotalTime 21.38 min, l_rate 0.0003\n",
      "EPOCH 59 Accuracy - Training 1.000, Valid 0.989, AvgEpochTime 22.12 s, TotalTime 21.75 min, l_rate 0.0003\n",
      "EPOCH 60 Accuracy - Training 0.999, Valid 0.990, AvgEpochTime 22.12 s, TotalTime 22.12 min, l_rate 0.0003\n",
      "updating learning rate 0.00028242953648100003\n",
      "EPOCH 61 Accuracy - Training 0.999, Valid 0.989, AvgEpochTime 22.12 s, TotalTime 22.48 min, l_rate 0.0003\n",
      "updating learning rate 0.00025418658283290005\n",
      "EPOCH 62 Accuracy - Training 0.999, Valid 0.988, AvgEpochTime 22.12 s, TotalTime 22.85 min, l_rate 0.0003\n",
      "EPOCH 63 Accuracy - Training 0.999, Valid 0.989, AvgEpochTime 22.12 s, TotalTime 23.22 min, l_rate 0.0003\n",
      "EPOCH 64 Accuracy - Training 1.000, Valid 0.988, AvgEpochTime 22.12 s, TotalTime 23.59 min, l_rate 0.0003\n",
      "EPOCH 65 Accuracy - Training 0.999, Valid 0.989, AvgEpochTime 22.12 s, TotalTime 23.96 min, l_rate 0.0003\n",
      "EPOCH 66 Accuracy - Training 1.000, Valid 0.990, AvgEpochTime 22.12 s, TotalTime 24.33 min, l_rate 0.0003\n",
      "Model saved\n",
      "Model saved\n",
      "Target accuracy reached!\n"
     ]
    }
   ],
   "source": [
    "from collections import deque\n",
    "\n",
    "TARGET_ACCURACY = .99\n",
    "start_time = time.time()\n",
    "best_valid_accuracy = 0\n",
    "valid_accuracy_q = deque(maxlen=10)\n",
    "train_accuracy_q = deque(maxlen=3)\n",
    "l_rate = .001\n",
    "\n",
    "best_accuracy = 0\n",
    "train_accuracy_q.append(0)\n",
    "\n",
    "continue_training = False\n",
    "\n",
    "with tf.Session() as sess:\n",
    "    sess.run(tf.global_variables_initializer())\n",
    "    num_examples = len(X_train)\n",
    "    \n",
    "    if continue_training:\n",
    "        saver.restore(sess, tf.train.latest_checkpoint('.'))\n",
    "    \n",
    "    print(\"Training...\")\n",
    "    print()\n",
    "    for i in range(EPOCHS):\n",
    "        X_train, y_train = shuffle(X_train, y_train)\n",
    "        batch_accuracy = []\n",
    "        for offset in range(0, num_examples, BATCH_SIZE):\n",
    "            end = offset + BATCH_SIZE\n",
    "            batch_x, batch_y = X_train[offset:end], y_train[offset:end]\n",
    "            \n",
    "            sess.run(training_operation, feed_dict={x: batch_x, y: batch_y, \n",
    "                                                    keep_prob:dropout,\n",
    "                                                   learning_rate: l_rate})\n",
    "            \n",
    "            batch_accuracy.append(evaluate(batch_x, batch_y))\n",
    "            \n",
    "        \n",
    "                                  \n",
    "        train_accuracy = np.mean(batch_accuracy)                        \n",
    "        validation_accuracy = evaluate(X_validation, y_validation)\n",
    "        \n",
    "        if best_accuracy < train_accuracy:\n",
    "            best_accuracy = train_accuracy\n",
    "        \n",
    "        \n",
    "        if i > 3  and (np.mean(train_accuracy_q) >= train_accuracy  or best_accuracy - train_accuracy > .001):\n",
    "            l_rate = l_rate * .9\n",
    "            print('updating learning rate {}'.format(l_rate))\n",
    "        \n",
    "        valid_accuracy_q.append(validation_accuracy)\n",
    "        train_accuracy_q.append(train_accuracy)\n",
    "        if validation_accuracy > best_valid_accuracy:\n",
    "            best_valid_accuracy = validation_accuracy\n",
    "        print(\"EPOCH {} Accuracy - Training {:.3f}, Valid {:.3f}, AvgEpochTime {:.2f} s, TotalTime {:.2f} min, l_rate {:.4f}\"\n",
    "              .format(i+1, train_accuracy, validation_accuracy, \n",
    "                      (time.time() - start_time)/(i+1), \n",
    "                      (time.time() - start_time)/60.,l_rate)\n",
    "                      )\n",
    "        if (i % 5 ==0 or i == EPOCHS -1) & i > 0:\n",
    "            saver.save(sess, './lenet')\n",
    "            print(\"Model saved\")\n",
    "        if validation_accuracy > TARGET_ACCURACY:\n",
    "            saver.save(sess, './lenet')\n",
    "            print(\"Model saved\")\n",
    "            print('Target accuracy reached!')\n",
    "            break\n",
    "        if ((len(valid_accuracy_q) == 10 and np.max(list(valid_accuracy_q)[-5:]) < best_valid_accuracy - .01)\n",
    "            or train_accuracy == 1.):\n",
    "            saver.save(sess, './lenet')\n",
    "            print(\"Model saved\")\n",
    "            print('Overfit!!')\n",
    "            break\n",
    "            \n",
    "\n",
    "#         try:\n",
    "#             acc_grad = zip(list(valid_accuracy_q), list(valid_accuracy_q)[1:])\n",
    "#             print(list(acc_grad))\n",
    "#             acc_grad = [ z[1]-z[0] for z in acc_grad]\n",
    "#             print(acc_grad)\n",
    "#             if acc_grad[-1] <= acc_grad[-2] +.0001:\n",
    "#                 l_rate -= .0001\n",
    "#                 #print('updating learning rate to {:.4f}'.format(l_rate))\n",
    "#         except Exception as e:\n",
    "#             print(str(e))\n",
    "        "
   ]
  },
  {
   "cell_type": "markdown",
   "metadata": {
    "deletable": true,
    "editable": true
   },
   "source": [
    "## Evaluate the Model\n",
    "Once you are completely satisfied with your model, evaluate the performance of the model on the test set.\n",
    "\n",
    "Be sure to only do this once!\n",
    "\n",
    "If you were to measure the performance of your trained model on the test set, then improve your model, and then measure the performance of your model on the test set again, that would invalidate your test results. You wouldn't get a true measure of how well your model would perform against real data.\n",
    "\n",
    "You do not need to modify this section."
   ]
  },
  {
   "cell_type": "code",
   "execution_count": 70,
   "metadata": {
    "collapsed": true
   },
   "outputs": [],
   "source": [
    "import math\n",
    "def get_activations(sess,layer,stimuli):\n",
    "    units = sess.run(layer,feed_dict={x: stimuli,keep_prob:1.0})\n",
    "    plot_filter(units)\n",
    "    \n",
    "def plot_filter(units):\n",
    "    filters = units.shape[3]\n",
    "    plt.figure(1, figsize=(20,20))\n",
    "    n_columns = 6\n",
    "    n_rows = math.ceil(filters / n_columns) + 1\n",
    "    for i in range(filters):\n",
    "        plt.subplot(n_rows, n_columns, i+1)\n",
    "        plt.title('Filter ' + str(i))\n",
    "        plt.imshow(units[0,:,:,i], interpolation=\"nearest\", cmap=\"gray\")"
   ]
  },
  {
   "cell_type": "code",
   "execution_count": 74,
   "metadata": {
    "collapsed": false
   },
   "outputs": [
    {
     "data": {
      "image/png": "[encoded data removed]",
      "text/plain": [
       "<matplotlib.figure.Figure at 0x7f592cb8f160>"
      ]
     },
     "metadata": {},
     "output_type": "display_data"
    }
   ],
   "source": [
    "with tf.Session() as sess:\n",
    "    saver.restore(sess, tf.train.latest_checkpoint('.'))\n",
    "#     get_activations(sess,conv1,X_dev[0:1])\n",
    "    get_activations(sess,conv2,X_dev[0:4])\n",
    "    "
   ]
  },
  {
   "cell_type": "code",
   "execution_count": null,
   "metadata": {
    "collapsed": true
   },
   "outputs": [],
   "source": []
  },
  {
   "cell_type": "code",
   "execution_count": 75,
   "metadata": {
    "collapsed": false,
    "deletable": true,
    "editable": true
   },
   "outputs": [
    {
     "name": "stdout",
     "output_type": "stream",
     "text": [
      "Test Accuracy = 0.991\n"
     ]
    }
   ],
   "source": [
    "with tf.Session() as sess:\n",
    "    saver.restore(sess, tf.train.latest_checkpoint('.'))\n",
    "\n",
    "    dev_accuracy = evaluate(X_dev, y_dev)\n",
    "    print(\"Test Accuracy = {:.3f}\".format(dev_accuracy))\n",
    "    \n",
    "    "
   ]
  },
  {
   "cell_type": "code",
   "execution_count": 76,
   "metadata": {
    "collapsed": false,
    "deletable": true,
    "editable": true
   },
   "outputs": [
    {
     "name": "stdout",
     "output_type": "stream",
     "text": [
      "Test Accuracy = 0.951\n"
     ]
    }
   ],
   "source": [
    "with tf.Session() as sess:\n",
    "    saver.restore(sess, tf.train.latest_checkpoint('.'))\n",
    "\n",
    "    test_accuracy = evaluate(X_test, y_test)\n",
    "    print(\"Test Accuracy = {:.3f}\".format(test_accuracy))"
   ]
  },
  {
   "cell_type": "code",
   "execution_count": null,
   "metadata": {
    "collapsed": true,
    "deletable": true,
    "editable": true
   },
   "outputs": [],
   "source": []
  }
 ],
 "metadata": {
  "anaconda-cloud": {},
  "kernelspec": {
   "display_name": "Python3 (tensorflow-gpu)",
   "language": "python",
   "name": "py3-tensorflow-gpu"
  },
  "language_info": {
   "codemirror_mode": {
    "name": "ipython",
    "version": 3
   },
   "file_extension": ".py",
   "mimetype": "text/x-python",
   "name": "python",
   "nbconvert_exporter": "python",
   "pygments_lexer": "ipython3",
   "version": "3.5.2"
  },
  "widgets": {
   "state": {},
   "version": "1.1.2"
  }
 },
 "nbformat": 4,
 "nbformat_minor": 0
}
